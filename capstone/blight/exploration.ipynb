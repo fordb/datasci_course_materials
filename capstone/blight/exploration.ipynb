{
 "cells": [
  {
   "cell_type": "code",
   "execution_count": 5,
   "metadata": {
    "collapsed": true
   },
   "outputs": [],
   "source": [
    "import pandas as pd"
   ]
  },
  {
   "cell_type": "code",
   "execution_count": 17,
   "metadata": {
    "collapsed": false
   },
   "outputs": [
    {
     "data": {
      "text/html": [
       "<div>\n",
       "<table border=\"1\" class=\"dataframe\">\n",
       "  <thead>\n",
       "    <tr style=\"text-align: right;\">\n",
       "      <th></th>\n",
       "      <th>address</th>\n",
       "      <th>lat</th>\n",
       "      <th>long</th>\n",
       "      <th>origin</th>\n",
       "    </tr>\n",
       "  </thead>\n",
       "  <tbody>\n",
       "    <tr>\n",
       "      <th>0</th>\n",
       "      <td>09100 PETOSKEY</td>\n",
       "      <td>42.3678</td>\n",
       "      <td>-83.1221</td>\n",
       "      <td>crime</td>\n",
       "    </tr>\n",
       "    <tr>\n",
       "      <th>1</th>\n",
       "      <td>00 PLYMOUTH AND MANSFIELD</td>\n",
       "      <td>42.3724</td>\n",
       "      <td>-83.2035</td>\n",
       "      <td>crime</td>\n",
       "    </tr>\n",
       "    <tr>\n",
       "      <th>2</th>\n",
       "      <td>00 E 7 MILE  VAN DYKE</td>\n",
       "      <td>42.4338</td>\n",
       "      <td>-83.0241</td>\n",
       "      <td>crime</td>\n",
       "    </tr>\n",
       "    <tr>\n",
       "      <th>3</th>\n",
       "      <td>06600 BARTON</td>\n",
       "      <td>42.3496</td>\n",
       "      <td>-83.1381</td>\n",
       "      <td>crime</td>\n",
       "    </tr>\n",
       "    <tr>\n",
       "      <th>4</th>\n",
       "      <td>00900 W WILLIS</td>\n",
       "      <td>42.3481</td>\n",
       "      <td>-83.0692</td>\n",
       "      <td>crime</td>\n",
       "    </tr>\n",
       "  </tbody>\n",
       "</table>\n",
       "</div>"
      ],
      "text/plain": [
       "                     address      lat     long origin\n",
       "0             09100 PETOSKEY  42.3678 -83.1221  crime\n",
       "1  00 PLYMOUTH AND MANSFIELD  42.3724 -83.2035  crime\n",
       "2      00 E 7 MILE  VAN DYKE  42.4338 -83.0241  crime\n",
       "3               06600 BARTON  42.3496 -83.1381  crime\n",
       "4             00900 W WILLIS  42.3481 -83.0692  crime"
      ]
     },
     "execution_count": 17,
     "metadata": {},
     "output_type": "execute_result"
    }
   ],
   "source": [
    "# read and clean crime data\n",
    "crime = pd.read_csv('data/detroit-crime.csv')\n",
    "crime = crime[['ADDRESS', 'LAT', 'LON']]\n",
    "crime.columns = ['address', 'lat', 'long']\n",
    "crime['origin'] = 'crime'\n",
    "# remove lats outside detroit\n",
    "crime = crime[crime['lat'] > 41.0]\n",
    "crime = crime[crime['lat'] < 45.0]\n",
    "crime.head()"
   ]
  },
  {
   "cell_type": "code",
   "execution_count": 7,
   "metadata": {
    "collapsed": false
   },
   "outputs": [
    {
     "data": {
      "text/html": [
       "<div>\n",
       "<table border=\"1\" class=\"dataframe\">\n",
       "  <thead>\n",
       "    <tr style=\"text-align: right;\">\n",
       "      <th></th>\n",
       "      <th>address</th>\n",
       "      <th>lat</th>\n",
       "      <th>long</th>\n",
       "      <th>origin</th>\n",
       "    </tr>\n",
       "  </thead>\n",
       "  <tbody>\n",
       "    <tr>\n",
       "      <th>0</th>\n",
       "      <td>13120-13130 Ilene Street Detroit, MI 48238, USA</td>\n",
       "      <td>42.383998</td>\n",
       "      <td>-83.161039</td>\n",
       "      <td>311</td>\n",
       "    </tr>\n",
       "    <tr>\n",
       "      <th>1</th>\n",
       "      <td>1485 E. Outer Drive Detroit, Michigan</td>\n",
       "      <td>42.440471</td>\n",
       "      <td>-83.080919</td>\n",
       "      <td>311</td>\n",
       "    </tr>\n",
       "    <tr>\n",
       "      <th>2</th>\n",
       "      <td>15460 Eastburn Detroit, Michigan</td>\n",
       "      <td>42.445244</td>\n",
       "      <td>-82.962038</td>\n",
       "      <td>311</td>\n",
       "    </tr>\n",
       "    <tr>\n",
       "      <th>3</th>\n",
       "      <td>17541 Mendota St Detroit, Michigan</td>\n",
       "      <td>42.421043</td>\n",
       "      <td>-83.166194</td>\n",
       "      <td>311</td>\n",
       "    </tr>\n",
       "    <tr>\n",
       "      <th>4</th>\n",
       "      <td>Griggs Detroit, Michigan</td>\n",
       "      <td>42.402033</td>\n",
       "      <td>-83.162874</td>\n",
       "      <td>311</td>\n",
       "    </tr>\n",
       "  </tbody>\n",
       "</table>\n",
       "</div>"
      ],
      "text/plain": [
       "                                           address        lat       long  \\\n",
       "0  13120-13130 Ilene Street Detroit, MI 48238, USA  42.383998 -83.161039   \n",
       "1            1485 E. Outer Drive Detroit, Michigan  42.440471 -83.080919   \n",
       "2                 15460 Eastburn Detroit, Michigan  42.445244 -82.962038   \n",
       "3               17541 Mendota St Detroit, Michigan  42.421043 -83.166194   \n",
       "4                         Griggs Detroit, Michigan  42.402033 -83.162874   \n",
       "\n",
       "  origin  \n",
       "0    311  \n",
       "1    311  \n",
       "2    311  \n",
       "3    311  \n",
       "4    311  "
      ]
     },
     "execution_count": 7,
     "metadata": {},
     "output_type": "execute_result"
    }
   ],
   "source": [
    "# read and clean 311 data\n",
    "_311 = pd.read_csv('data/detroit-311.csv')\n",
    "_311 = _311[['address', 'lat', 'lng']]\n",
    "_311.columns = ['address', 'lat', 'long']\n",
    "_311['origin'] = '311'\n",
    "_311.head()"
   ]
  },
  {
   "cell_type": "code",
   "execution_count": 42,
   "metadata": {
    "collapsed": false
   },
   "outputs": [
    {
     "data": {
      "text/html": [
       "<div>\n",
       "<table border=\"1\" class=\"dataframe\">\n",
       "  <thead>\n",
       "    <tr style=\"text-align: right;\">\n",
       "      <th></th>\n",
       "      <th>address</th>\n",
       "      <th>lat</th>\n",
       "      <th>long</th>\n",
       "      <th>origin</th>\n",
       "    </tr>\n",
       "  </thead>\n",
       "  <tbody>\n",
       "    <tr>\n",
       "      <th>0</th>\n",
       "      <td>4331  BARHAM</td>\n",
       "      <td>42.394106</td>\n",
       "      <td>-82.947400</td>\n",
       "      <td>demo</td>\n",
       "    </tr>\n",
       "    <tr>\n",
       "      <th>1</th>\n",
       "      <td>9707  BESSEMORE</td>\n",
       "      <td>42.395122</td>\n",
       "      <td>-83.005077</td>\n",
       "      <td>demo</td>\n",
       "    </tr>\n",
       "    <tr>\n",
       "      <th>2</th>\n",
       "      <td>5315  BERKSHIRE</td>\n",
       "      <td>42.403220</td>\n",
       "      <td>-82.946476</td>\n",
       "      <td>demo</td>\n",
       "    </tr>\n",
       "    <tr>\n",
       "      <th>3</th>\n",
       "      <td>16670  BRINGARD DR</td>\n",
       "      <td>42.446640</td>\n",
       "      <td>-82.947207</td>\n",
       "      <td>demo</td>\n",
       "    </tr>\n",
       "    <tr>\n",
       "      <th>4</th>\n",
       "      <td>1454  BEATRICE</td>\n",
       "      <td>42.276956</td>\n",
       "      <td>-83.147536</td>\n",
       "      <td>demo</td>\n",
       "    </tr>\n",
       "  </tbody>\n",
       "</table>\n",
       "</div>"
      ],
      "text/plain": [
       "              address        lat       long origin\n",
       "0        4331  BARHAM  42.394106 -82.947400   demo\n",
       "1     9707  BESSEMORE  42.395122 -83.005077   demo\n",
       "2     5315  BERKSHIRE  42.403220 -82.946476   demo\n",
       "3  16670  BRINGARD DR  42.446640 -82.947207   demo\n",
       "4      1454  BEATRICE  42.276956 -83.147536   demo"
      ]
     },
     "execution_count": 42,
     "metadata": {},
     "output_type": "execute_result"
    }
   ],
   "source": [
    "# read and clean demo data\n",
    "demo = pd.read_csv('data/detroit-demolition-permits.tsv', sep='\\t')\n",
    "demo = demo[['SITE_ADDRESS', 'site_location']]\n",
    "demo['lat'] = demo['site_location'].str.split('\\n', expand=True)[2].str.split(', ', expand=True)[0].str.replace('(', '')\n",
    "demo['long'] = demo['site_location'].str.split('\\n', expand=True)[2].str.split(', ', expand=True)[1].str.replace(')', '')\n",
    "demo = demo[['SITE_ADDRESS', 'lat', 'long']]\n",
    "demo.columns = ['address', 'lat', 'long']\n",
    "demo['origin'] = 'demo'\n",
    "demo = demo[pd.notnull(demo['lat'])]\n",
    "demo = demo[pd.notnull(demo['long'])]\n",
    "demo['lat'] = demo['lat'].astype(float)\n",
    "demo['long'] = demo['long'].astype(float)\n",
    "# remove lats/longs outside detroit\n",
    "demo = demo[demo['lat'] > 41.0]\n",
    "demo = demo[demo['lat'] < 45.0]\n",
    "demo.head()"
   ]
  },
  {
   "cell_type": "code",
   "execution_count": 45,
   "metadata": {
    "collapsed": false
   },
   "outputs": [
    {
     "data": {
      "text/html": [
       "<div>\n",
       "<table border=\"1\" class=\"dataframe\">\n",
       "  <thead>\n",
       "    <tr style=\"text-align: right;\">\n",
       "      <th></th>\n",
       "      <th>address</th>\n",
       "      <th>lat</th>\n",
       "      <th>long</th>\n",
       "      <th>origin</th>\n",
       "    </tr>\n",
       "  </thead>\n",
       "  <tbody>\n",
       "    <tr>\n",
       "      <th>0</th>\n",
       "      <td>2566 GRAND BLVD</td>\n",
       "      <td>42.363182</td>\n",
       "      <td>-83.091677</td>\n",
       "      <td>blight</td>\n",
       "    </tr>\n",
       "    <tr>\n",
       "      <th>1</th>\n",
       "      <td>19014 ASHTON</td>\n",
       "      <td>42.429391</td>\n",
       "      <td>-83.220394</td>\n",
       "      <td>blight</td>\n",
       "    </tr>\n",
       "    <tr>\n",
       "      <th>2</th>\n",
       "      <td>18735 STAHELIN</td>\n",
       "      <td>42.428707</td>\n",
       "      <td>-83.227548</td>\n",
       "      <td>blight</td>\n",
       "    </tr>\n",
       "    <tr>\n",
       "      <th>3</th>\n",
       "      <td>20125 MONICA</td>\n",
       "      <td>42.441698</td>\n",
       "      <td>-83.145018</td>\n",
       "      <td>blight</td>\n",
       "    </tr>\n",
       "    <tr>\n",
       "      <th>4</th>\n",
       "      <td>17397 PRAIRIE</td>\n",
       "      <td>42.420318</td>\n",
       "      <td>-83.145328</td>\n",
       "      <td>blight</td>\n",
       "    </tr>\n",
       "  </tbody>\n",
       "</table>\n",
       "</div>"
      ],
      "text/plain": [
       "           address        lat       long  origin\n",
       "0  2566 GRAND BLVD  42.363182 -83.091677  blight\n",
       "1     19014 ASHTON  42.429391 -83.220394  blight\n",
       "2   18735 STAHELIN  42.428707 -83.227548  blight\n",
       "3     20125 MONICA  42.441698 -83.145018  blight\n",
       "4    17397 PRAIRIE  42.420318 -83.145328  blight"
      ]
     },
     "execution_count": 45,
     "metadata": {},
     "output_type": "execute_result"
    }
   ],
   "source": [
    "# read and clean blight data\n",
    "blight = pd.read_csv('data/detroit-blight-violations.csv')\n",
    "blight['address'] = blight['ViolationAddress'].str.split('\\n', expand=True)[0]\n",
    "blight['lat'] = blight['ViolationAddress'].str.split('\\n', expand=True)[2].str.split(', ', expand=True)[0].str.replace('(', '')\n",
    "blight['long'] = blight['ViolationAddress'].str.split('\\n', expand=True)[2].str.split(', ', expand=True)[1].str.replace(')', '')\n",
    "blight = blight[['address', 'lat', 'long']]\n",
    "blight['origin'] = 'blight'\n",
    "blight = blight[pd.notnull(blight['lat'])]\n",
    "blight = blight[pd.notnull(blight['long'])]\n",
    "blight['lat'] = blight['lat'].astype(float)\n",
    "blight['long'] = blight['long'].astype(float)\n",
    "blight.head()"
   ]
  },
  {
   "cell_type": "code",
   "execution_count": 49,
   "metadata": {
    "collapsed": false
   },
   "outputs": [
    {
     "data": {
      "text/plain": [
       "(453343, 4)"
      ]
     },
     "execution_count": 49,
     "metadata": {},
     "output_type": "execute_result"
    }
   ],
   "source": [
    "d = crime.append([_311, demo, blight])\n",
    "d.shape"
   ]
  },
  {
   "cell_type": "code",
   "execution_count": null,
   "metadata": {
    "collapsed": true
   },
   "outputs": [],
   "source": []
  },
  {
   "cell_type": "code",
   "execution_count": 20,
   "metadata": {
    "collapsed": false
   },
   "outputs": [],
   "source": [
    "import gmplot\n",
    "gmap = gmplot.GoogleMapPlotter(42.4, -83.1, 12)\n",
    "gmap.heatmap(crime['lat'], crime['long'])\n",
    "gmap.draw(\"detroit.html\")"
   ]
  },
  {
   "cell_type": "code",
   "execution_count": null,
   "metadata": {
    "collapsed": true
   },
   "outputs": [],
   "source": []
  }
 ],
 "metadata": {
  "kernelspec": {
   "display_name": "Python 2",
   "language": "python",
   "name": "python2"
  },
  "language_info": {
   "codemirror_mode": {
    "name": "ipython",
    "version": 2
   },
   "file_extension": ".py",
   "mimetype": "text/x-python",
   "name": "python",
   "nbconvert_exporter": "python",
   "pygments_lexer": "ipython2",
   "version": "2.7.13"
  }
 },
 "nbformat": 4,
 "nbformat_minor": 2
}
