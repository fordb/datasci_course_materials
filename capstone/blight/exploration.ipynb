{
 "cells": [
  {
   "cell_type": "code",
   "execution_count": 103,
   "metadata": {
    "collapsed": true
   },
   "outputs": [],
   "source": [
    "import pandas as pd"
   ]
  },
  {
   "cell_type": "code",
   "execution_count": 104,
   "metadata": {
    "collapsed": false
   },
   "outputs": [
    {
     "data": {
      "text/html": [
       "<div>\n",
       "<table border=\"1\" class=\"dataframe\">\n",
       "  <thead>\n",
       "    <tr style=\"text-align: right;\">\n",
       "      <th></th>\n",
       "      <th>address</th>\n",
       "      <th>lat</th>\n",
       "      <th>long</th>\n",
       "      <th>origin</th>\n",
       "    </tr>\n",
       "  </thead>\n",
       "  <tbody>\n",
       "    <tr>\n",
       "      <th>0</th>\n",
       "      <td>09100 PETOSKEY</td>\n",
       "      <td>42.3678</td>\n",
       "      <td>-83.1221</td>\n",
       "      <td>crime</td>\n",
       "    </tr>\n",
       "    <tr>\n",
       "      <th>1</th>\n",
       "      <td>00 PLYMOUTH AND MANSFIELD</td>\n",
       "      <td>42.3724</td>\n",
       "      <td>-83.2035</td>\n",
       "      <td>crime</td>\n",
       "    </tr>\n",
       "    <tr>\n",
       "      <th>2</th>\n",
       "      <td>00 E 7 MILE  VAN DYKE</td>\n",
       "      <td>42.4338</td>\n",
       "      <td>-83.0241</td>\n",
       "      <td>crime</td>\n",
       "    </tr>\n",
       "    <tr>\n",
       "      <th>3</th>\n",
       "      <td>06600 BARTON</td>\n",
       "      <td>42.3496</td>\n",
       "      <td>-83.1381</td>\n",
       "      <td>crime</td>\n",
       "    </tr>\n",
       "    <tr>\n",
       "      <th>4</th>\n",
       "      <td>00900 W WILLIS</td>\n",
       "      <td>42.3481</td>\n",
       "      <td>-83.0692</td>\n",
       "      <td>crime</td>\n",
       "    </tr>\n",
       "  </tbody>\n",
       "</table>\n",
       "</div>"
      ],
      "text/plain": [
       "                     address      lat     long origin\n",
       "0             09100 PETOSKEY  42.3678 -83.1221  crime\n",
       "1  00 PLYMOUTH AND MANSFIELD  42.3724 -83.2035  crime\n",
       "2      00 E 7 MILE  VAN DYKE  42.4338 -83.0241  crime\n",
       "3               06600 BARTON  42.3496 -83.1381  crime\n",
       "4             00900 W WILLIS  42.3481 -83.0692  crime"
      ]
     },
     "execution_count": 104,
     "metadata": {},
     "output_type": "execute_result"
    }
   ],
   "source": [
    "# read and clean crime data\n",
    "crime = pd.read_csv('data/detroit-crime.csv')\n",
    "crime = crime[['ADDRESS', 'LAT', 'LON']]\n",
    "crime.columns = ['address', 'lat', 'long']\n",
    "crime['origin'] = 'crime'\n",
    "# remove lats outside detroit\n",
    "crime = crime[crime['lat'] > 41.0]\n",
    "crime = crime[crime['lat'] < 45.0]\n",
    "crime.head()"
   ]
  },
  {
   "cell_type": "code",
   "execution_count": 105,
   "metadata": {
    "collapsed": false
   },
   "outputs": [
    {
     "data": {
      "text/html": [
       "<div>\n",
       "<table border=\"1\" class=\"dataframe\">\n",
       "  <thead>\n",
       "    <tr style=\"text-align: right;\">\n",
       "      <th></th>\n",
       "      <th>address</th>\n",
       "      <th>lat</th>\n",
       "      <th>long</th>\n",
       "      <th>origin</th>\n",
       "    </tr>\n",
       "  </thead>\n",
       "  <tbody>\n",
       "    <tr>\n",
       "      <th>0</th>\n",
       "      <td>13120-13130 Ilene Street Detroit, MI 48238, USA</td>\n",
       "      <td>42.383998</td>\n",
       "      <td>-83.161039</td>\n",
       "      <td>311</td>\n",
       "    </tr>\n",
       "    <tr>\n",
       "      <th>1</th>\n",
       "      <td>1485 E. Outer Drive Detroit, Michigan</td>\n",
       "      <td>42.440471</td>\n",
       "      <td>-83.080919</td>\n",
       "      <td>311</td>\n",
       "    </tr>\n",
       "    <tr>\n",
       "      <th>2</th>\n",
       "      <td>15460 Eastburn Detroit, Michigan</td>\n",
       "      <td>42.445244</td>\n",
       "      <td>-82.962038</td>\n",
       "      <td>311</td>\n",
       "    </tr>\n",
       "    <tr>\n",
       "      <th>3</th>\n",
       "      <td>17541 Mendota St Detroit, Michigan</td>\n",
       "      <td>42.421043</td>\n",
       "      <td>-83.166194</td>\n",
       "      <td>311</td>\n",
       "    </tr>\n",
       "    <tr>\n",
       "      <th>4</th>\n",
       "      <td>Griggs Detroit, Michigan</td>\n",
       "      <td>42.402033</td>\n",
       "      <td>-83.162874</td>\n",
       "      <td>311</td>\n",
       "    </tr>\n",
       "  </tbody>\n",
       "</table>\n",
       "</div>"
      ],
      "text/plain": [
       "                                           address        lat       long  \\\n",
       "0  13120-13130 Ilene Street Detroit, MI 48238, USA  42.383998 -83.161039   \n",
       "1            1485 E. Outer Drive Detroit, Michigan  42.440471 -83.080919   \n",
       "2                 15460 Eastburn Detroit, Michigan  42.445244 -82.962038   \n",
       "3               17541 Mendota St Detroit, Michigan  42.421043 -83.166194   \n",
       "4                         Griggs Detroit, Michigan  42.402033 -83.162874   \n",
       "\n",
       "  origin  \n",
       "0    311  \n",
       "1    311  \n",
       "2    311  \n",
       "3    311  \n",
       "4    311  "
      ]
     },
     "execution_count": 105,
     "metadata": {},
     "output_type": "execute_result"
    }
   ],
   "source": [
    "# read and clean 311 data\n",
    "_311 = pd.read_csv('data/detroit-311.csv')\n",
    "_311 = _311[['address', 'lat', 'lng']]\n",
    "_311.columns = ['address', 'lat', 'long']\n",
    "_311['origin'] = '311'\n",
    "_311.head()"
   ]
  },
  {
   "cell_type": "code",
   "execution_count": 106,
   "metadata": {
    "collapsed": false
   },
   "outputs": [
    {
     "data": {
      "text/html": [
       "<div>\n",
       "<table border=\"1\" class=\"dataframe\">\n",
       "  <thead>\n",
       "    <tr style=\"text-align: right;\">\n",
       "      <th></th>\n",
       "      <th>address</th>\n",
       "      <th>lat</th>\n",
       "      <th>long</th>\n",
       "      <th>origin</th>\n",
       "    </tr>\n",
       "  </thead>\n",
       "  <tbody>\n",
       "    <tr>\n",
       "      <th>0</th>\n",
       "      <td>4331  BARHAM</td>\n",
       "      <td>42.394106</td>\n",
       "      <td>-82.947400</td>\n",
       "      <td>demo</td>\n",
       "    </tr>\n",
       "    <tr>\n",
       "      <th>1</th>\n",
       "      <td>9707  BESSEMORE</td>\n",
       "      <td>42.395122</td>\n",
       "      <td>-83.005077</td>\n",
       "      <td>demo</td>\n",
       "    </tr>\n",
       "    <tr>\n",
       "      <th>2</th>\n",
       "      <td>5315  BERKSHIRE</td>\n",
       "      <td>42.403220</td>\n",
       "      <td>-82.946476</td>\n",
       "      <td>demo</td>\n",
       "    </tr>\n",
       "    <tr>\n",
       "      <th>3</th>\n",
       "      <td>16670  BRINGARD DR</td>\n",
       "      <td>42.446640</td>\n",
       "      <td>-82.947207</td>\n",
       "      <td>demo</td>\n",
       "    </tr>\n",
       "    <tr>\n",
       "      <th>4</th>\n",
       "      <td>1454  BEATRICE</td>\n",
       "      <td>42.276956</td>\n",
       "      <td>-83.147536</td>\n",
       "      <td>demo</td>\n",
       "    </tr>\n",
       "  </tbody>\n",
       "</table>\n",
       "</div>"
      ],
      "text/plain": [
       "              address        lat       long origin\n",
       "0        4331  BARHAM  42.394106 -82.947400   demo\n",
       "1     9707  BESSEMORE  42.395122 -83.005077   demo\n",
       "2     5315  BERKSHIRE  42.403220 -82.946476   demo\n",
       "3  16670  BRINGARD DR  42.446640 -82.947207   demo\n",
       "4      1454  BEATRICE  42.276956 -83.147536   demo"
      ]
     },
     "execution_count": 106,
     "metadata": {},
     "output_type": "execute_result"
    }
   ],
   "source": [
    "# read and clean demo data\n",
    "demo = pd.read_csv('data/detroit-demolition-permits.tsv', sep='\\t')\n",
    "demo = demo[['SITE_ADDRESS', 'site_location']]\n",
    "demo['lat'] = demo['site_location'].str.split('\\n', expand=True)[2].str.split(', ', expand=True)[0].str.replace('(', '')\n",
    "demo['long'] = demo['site_location'].str.split('\\n', expand=True)[2].str.split(', ', expand=True)[1].str.replace(')', '')\n",
    "demo = demo[['SITE_ADDRESS', 'lat', 'long']]\n",
    "demo.columns = ['address', 'lat', 'long']\n",
    "demo['origin'] = 'demo'\n",
    "demo = demo[pd.notnull(demo['lat'])]\n",
    "demo = demo[pd.notnull(demo['long'])]\n",
    "demo['lat'] = demo['lat'].astype(float)\n",
    "demo['long'] = demo['long'].astype(float)\n",
    "# remove lats/longs outside detroit\n",
    "demo = demo[demo['lat'] > 41.0]\n",
    "demo = demo[demo['lat'] < 45.0]\n",
    "demo.head()"
   ]
  },
  {
   "cell_type": "code",
   "execution_count": 107,
   "metadata": {
    "collapsed": false
   },
   "outputs": [
    {
     "data": {
      "text/html": [
       "<div>\n",
       "<table border=\"1\" class=\"dataframe\">\n",
       "  <thead>\n",
       "    <tr style=\"text-align: right;\">\n",
       "      <th></th>\n",
       "      <th>address</th>\n",
       "      <th>lat</th>\n",
       "      <th>long</th>\n",
       "      <th>origin</th>\n",
       "    </tr>\n",
       "  </thead>\n",
       "  <tbody>\n",
       "    <tr>\n",
       "      <th>0</th>\n",
       "      <td>2566 GRAND BLVD</td>\n",
       "      <td>42.363182</td>\n",
       "      <td>-83.091677</td>\n",
       "      <td>blight</td>\n",
       "    </tr>\n",
       "    <tr>\n",
       "      <th>1</th>\n",
       "      <td>19014 ASHTON</td>\n",
       "      <td>42.429391</td>\n",
       "      <td>-83.220394</td>\n",
       "      <td>blight</td>\n",
       "    </tr>\n",
       "    <tr>\n",
       "      <th>2</th>\n",
       "      <td>18735 STAHELIN</td>\n",
       "      <td>42.428707</td>\n",
       "      <td>-83.227548</td>\n",
       "      <td>blight</td>\n",
       "    </tr>\n",
       "    <tr>\n",
       "      <th>3</th>\n",
       "      <td>20125 MONICA</td>\n",
       "      <td>42.441698</td>\n",
       "      <td>-83.145018</td>\n",
       "      <td>blight</td>\n",
       "    </tr>\n",
       "    <tr>\n",
       "      <th>4</th>\n",
       "      <td>17397 PRAIRIE</td>\n",
       "      <td>42.420318</td>\n",
       "      <td>-83.145328</td>\n",
       "      <td>blight</td>\n",
       "    </tr>\n",
       "  </tbody>\n",
       "</table>\n",
       "</div>"
      ],
      "text/plain": [
       "           address        lat       long  origin\n",
       "0  2566 GRAND BLVD  42.363182 -83.091677  blight\n",
       "1     19014 ASHTON  42.429391 -83.220394  blight\n",
       "2   18735 STAHELIN  42.428707 -83.227548  blight\n",
       "3     20125 MONICA  42.441698 -83.145018  blight\n",
       "4    17397 PRAIRIE  42.420318 -83.145328  blight"
      ]
     },
     "execution_count": 107,
     "metadata": {},
     "output_type": "execute_result"
    }
   ],
   "source": [
    "# read and clean blight data\n",
    "blight = pd.read_csv('data/detroit-blight-violations.csv')\n",
    "blight['address'] = blight['ViolationAddress'].str.split('\\n', expand=True)[0]\n",
    "blight['lat'] = blight['ViolationAddress'].str.split('\\n', expand=True)[2].str.split(', ', expand=True)[0].str.replace('(', '')\n",
    "blight['long'] = blight['ViolationAddress'].str.split('\\n', expand=True)[2].str.split(', ', expand=True)[1].str.replace(')', '')\n",
    "blight = blight[['address', 'lat', 'long']]\n",
    "blight['origin'] = 'blight'\n",
    "blight = blight[pd.notnull(blight['lat'])]\n",
    "blight = blight[pd.notnull(blight['long'])]\n",
    "blight['lat'] = blight['lat'].astype(float)\n",
    "blight['long'] = blight['long'].astype(float)\n",
    "blight.head()"
   ]
  },
  {
   "cell_type": "code",
   "execution_count": 108,
   "metadata": {
    "collapsed": false
   },
   "outputs": [
    {
     "name": "stdout",
     "output_type": "stream",
     "text": [
      "(453343, 4)\n"
     ]
    },
    {
     "data": {
      "text/html": [
       "<div>\n",
       "<table border=\"1\" class=\"dataframe\">\n",
       "  <thead>\n",
       "    <tr style=\"text-align: right;\">\n",
       "      <th></th>\n",
       "      <th>address</th>\n",
       "      <th>lat</th>\n",
       "      <th>long</th>\n",
       "      <th>origin</th>\n",
       "    </tr>\n",
       "  </thead>\n",
       "  <tbody>\n",
       "    <tr>\n",
       "      <th>0</th>\n",
       "      <td>09100 PETOSKEY</td>\n",
       "      <td>42.3678</td>\n",
       "      <td>-83.1221</td>\n",
       "      <td>crime</td>\n",
       "    </tr>\n",
       "    <tr>\n",
       "      <th>1</th>\n",
       "      <td>00 PLYMOUTH AND MANSFIELD</td>\n",
       "      <td>42.3724</td>\n",
       "      <td>-83.2035</td>\n",
       "      <td>crime</td>\n",
       "    </tr>\n",
       "    <tr>\n",
       "      <th>2</th>\n",
       "      <td>00 E 7 MILE  VAN DYKE</td>\n",
       "      <td>42.4338</td>\n",
       "      <td>-83.0241</td>\n",
       "      <td>crime</td>\n",
       "    </tr>\n",
       "    <tr>\n",
       "      <th>3</th>\n",
       "      <td>06600 BARTON</td>\n",
       "      <td>42.3496</td>\n",
       "      <td>-83.1381</td>\n",
       "      <td>crime</td>\n",
       "    </tr>\n",
       "    <tr>\n",
       "      <th>4</th>\n",
       "      <td>00900 W WILLIS</td>\n",
       "      <td>42.3481</td>\n",
       "      <td>-83.0692</td>\n",
       "      <td>crime</td>\n",
       "    </tr>\n",
       "  </tbody>\n",
       "</table>\n",
       "</div>"
      ],
      "text/plain": [
       "                     address      lat     long origin\n",
       "0             09100 PETOSKEY  42.3678 -83.1221  crime\n",
       "1  00 PLYMOUTH AND MANSFIELD  42.3724 -83.2035  crime\n",
       "2      00 E 7 MILE  VAN DYKE  42.4338 -83.0241  crime\n",
       "3               06600 BARTON  42.3496 -83.1381  crime\n",
       "4             00900 W WILLIS  42.3481 -83.0692  crime"
      ]
     },
     "execution_count": 108,
     "metadata": {},
     "output_type": "execute_result"
    }
   ],
   "source": [
    "d = crime.append([_311, demo, blight])\n",
    "d.to_csv('d.csv', index=False)\n",
    "d = d.reset_index(drop=True)\n",
    "print d.shape\n",
    "d.head()"
   ]
  },
  {
   "cell_type": "code",
   "execution_count": 109,
   "metadata": {
    "collapsed": false
   },
   "outputs": [],
   "source": [
    "import gmplot\n",
    "gmap = gmplot.GoogleMapPlotter(42.4, -83.1, 12)\n",
    "gmap.heatmap(d['lat'], d['long'])\n",
    "gmap.draw(\"detroit.html\")"
   ]
  },
  {
   "cell_type": "code",
   "execution_count": 110,
   "metadata": {
    "collapsed": true
   },
   "outputs": [],
   "source": [
    "# format addresses to do fuzzy matching\n",
    "# 1) normalize\n",
    "# 2) featurize\n",
    "# 3) classify\n",
    "# 4) scoring\n",
    "\n",
    "# taken largely from http://blog.yhat.com/posts/fuzzy-matching-with-yhat.html"
   ]
  },
  {
   "cell_type": "code",
   "execution_count": 115,
   "metadata": {
    "collapsed": false
   },
   "outputs": [
    {
     "data": {
      "text/html": [
       "<div>\n",
       "<table border=\"1\" class=\"dataframe\">\n",
       "  <thead>\n",
       "    <tr style=\"text-align: right;\">\n",
       "      <th></th>\n",
       "      <th>address</th>\n",
       "      <th>lat</th>\n",
       "      <th>long</th>\n",
       "      <th>origin</th>\n",
       "      <th>address_clean</th>\n",
       "    </tr>\n",
       "  </thead>\n",
       "  <tbody>\n",
       "    <tr>\n",
       "      <th>0</th>\n",
       "      <td>09100 PETOSKEY</td>\n",
       "      <td>42.3678</td>\n",
       "      <td>-83.1221</td>\n",
       "      <td>crime</td>\n",
       "      <td>09100 PETOSKEY</td>\n",
       "    </tr>\n",
       "    <tr>\n",
       "      <th>1</th>\n",
       "      <td>00 PLYMOUTH AND MANSFIELD</td>\n",
       "      <td>42.3724</td>\n",
       "      <td>-83.2035</td>\n",
       "      <td>crime</td>\n",
       "      <td>00 PLYMOUTH AND MANSFIELD</td>\n",
       "    </tr>\n",
       "    <tr>\n",
       "      <th>2</th>\n",
       "      <td>00 E 7 MILE  VAN DYKE</td>\n",
       "      <td>42.4338</td>\n",
       "      <td>-83.0241</td>\n",
       "      <td>crime</td>\n",
       "      <td>00 E 7 MILE  VAN DYKE</td>\n",
       "    </tr>\n",
       "    <tr>\n",
       "      <th>3</th>\n",
       "      <td>06600 BARTON</td>\n",
       "      <td>42.3496</td>\n",
       "      <td>-83.1381</td>\n",
       "      <td>crime</td>\n",
       "      <td>06600 BARTON</td>\n",
       "    </tr>\n",
       "    <tr>\n",
       "      <th>4</th>\n",
       "      <td>00900 W WILLIS</td>\n",
       "      <td>42.3481</td>\n",
       "      <td>-83.0692</td>\n",
       "      <td>crime</td>\n",
       "      <td>00900 W WILLIS</td>\n",
       "    </tr>\n",
       "  </tbody>\n",
       "</table>\n",
       "</div>"
      ],
      "text/plain": [
       "                     address      lat     long origin  \\\n",
       "0             09100 PETOSKEY  42.3678 -83.1221  crime   \n",
       "1  00 PLYMOUTH AND MANSFIELD  42.3724 -83.2035  crime   \n",
       "2      00 E 7 MILE  VAN DYKE  42.4338 -83.0241  crime   \n",
       "3               06600 BARTON  42.3496 -83.1381  crime   \n",
       "4             00900 W WILLIS  42.3481 -83.0692  crime   \n",
       "\n",
       "               address_clean  \n",
       "0             09100 PETOSKEY  \n",
       "1  00 PLYMOUTH AND MANSFIELD  \n",
       "2      00 E 7 MILE  VAN DYKE  \n",
       "3               06600 BARTON  \n",
       "4             00900 W WILLIS  "
      ]
     },
     "execution_count": 115,
     "metadata": {},
     "output_type": "execute_result"
    }
   ],
   "source": [
    "# 1) normalize\n",
    "\n",
    "# remove punctuation and capitalize everything\n",
    "import string\n",
    "import re\n",
    "exclude = set(string.punctuation)\n",
    "\n",
    "def clean_string(s):\n",
    "    # capitalize\n",
    "    s = s.upper()\n",
    "    # remove punctuation\n",
    "    s = ''.join(ch for ch in s if ch not in exclude)\n",
    "    s.replace('DETROIT MICHIGAN', '')\n",
    "    s.replace('DETROIT, MI', '')\n",
    "    return s\n",
    "\n",
    "d['address_clean'] = d['address'].apply(clean_string)\n",
    "\n",
    "d.head()"
   ]
  },
  {
   "cell_type": "code",
   "execution_count": 162,
   "metadata": {
    "collapsed": false
   },
   "outputs": [
    {
     "name": "stdout",
     "output_type": "stream",
     "text": [
      "0.024157763583\n",
      "0.0255917777667\n"
     ]
    }
   ],
   "source": [
    "# find what to add/subtract to lat/long to box addresses\n",
    "import geopy\n",
    "import geopy.distance\n",
    "\n",
    "lat_diff = .00035\n",
    "long_diff = .0005\n",
    "\n",
    "lat = 42.3678\n",
    "long = -83.1221\n",
    "\n",
    "pt1 = geopy.Point(lat, long)\n",
    "pt2 = geopy.Point(lat + lat_diff, long)\n",
    "# distance.distance() is the  VincentyDistance by default.\n",
    "dist = geopy.distance.distance(pt1, pt2).mi\n",
    "print dist\n",
    "\n",
    "pt1 = geopy.Point(lat, long)\n",
    "pt2 = geopy.Point(lat, long + long_diff)\n",
    "# distance.distance() is the  VincentyDistance by default.\n",
    "dist = geopy.distance.distance(pt1, pt2).mi\n",
    "print dist"
   ]
  },
  {
   "cell_type": "code",
   "execution_count": 163,
   "metadata": {
    "collapsed": false
   },
   "outputs": [],
   "source": [
    "# group by address\n",
    "import numpy as np\n",
    "g = d.groupby(['address_clean']).agg(\n",
    "    {'lat': [np.size, np.mean, np.min, np.max],\n",
    "     'long': [np.mean, np.min, np.max]}).reset_index()\n",
    "g.columns = g.columns.droplevel(0)\n",
    "g.columns = ['address_clean', 'N', 'lat_avg', 'lat_min', 'lat_max', 'long_avg', 'long_min', 'long_max']"
   ]
  },
  {
   "cell_type": "code",
   "execution_count": 164,
   "metadata": {
    "collapsed": false
   },
   "outputs": [],
   "source": [
    "# create .05 mile x .05 mile square around average lat/long of address\n",
    "g['lat_min_bound'] = g['lat_avg'] - lat_diff\n",
    "g['lat_max_bound'] = g['lat_avg'] + lat_diff\n",
    "g['long_min_bound'] = g['long_avg'] - long_diff\n",
    "g['long_max_bound'] = g['long_avg'] + long_diff"
   ]
  },
  {
   "cell_type": "code",
   "execution_count": 165,
   "metadata": {
    "collapsed": false
   },
   "outputs": [
    {
     "data": {
      "text/html": [
       "<div>\n",
       "<table border=\"1\" class=\"dataframe\">\n",
       "  <thead>\n",
       "    <tr style=\"text-align: right;\">\n",
       "      <th></th>\n",
       "      <th>address_clean</th>\n",
       "      <th>N</th>\n",
       "      <th>lat_avg</th>\n",
       "      <th>lat_min</th>\n",
       "      <th>lat_max</th>\n",
       "      <th>long_avg</th>\n",
       "      <th>long_min</th>\n",
       "      <th>long_max</th>\n",
       "      <th>lat_min_bound</th>\n",
       "      <th>lat_max_bound</th>\n",
       "      <th>long_min_bound</th>\n",
       "      <th>long_max_bound</th>\n",
       "    </tr>\n",
       "  </thead>\n",
       "  <tbody>\n",
       "    <tr>\n",
       "      <th>0</th>\n",
       "      <td>5949 CASMERE ST DETROIT MICHIGAN</td>\n",
       "      <td>1.0</td>\n",
       "      <td>42.408738</td>\n",
       "      <td>42.408738</td>\n",
       "      <td>42.408738</td>\n",
       "      <td>-83.041618</td>\n",
       "      <td>-83.041618</td>\n",
       "      <td>-83.041618</td>\n",
       "      <td>42.408388</td>\n",
       "      <td>42.409088</td>\n",
       "      <td>-83.042118</td>\n",
       "      <td>-83.041118</td>\n",
       "    </tr>\n",
       "    <tr>\n",
       "      <th>1</th>\n",
       "      <td>8641 LITTLEFIELD DETROIT MICHIGAN</td>\n",
       "      <td>1.0</td>\n",
       "      <td>42.358054</td>\n",
       "      <td>42.358054</td>\n",
       "      <td>42.358054</td>\n",
       "      <td>-83.175329</td>\n",
       "      <td>-83.175329</td>\n",
       "      <td>-83.175329</td>\n",
       "      <td>42.357704</td>\n",
       "      <td>42.358404</td>\n",
       "      <td>-83.175829</td>\n",
       "      <td>-83.174829</td>\n",
       "    </tr>\n",
       "    <tr>\n",
       "      <th>2</th>\n",
       "      <td>WAGNER DETROIT MICHIGAN</td>\n",
       "      <td>1.0</td>\n",
       "      <td>42.338734</td>\n",
       "      <td>42.338734</td>\n",
       "      <td>42.338734</td>\n",
       "      <td>-83.137666</td>\n",
       "      <td>-83.137666</td>\n",
       "      <td>-83.137666</td>\n",
       "      <td>42.338384</td>\n",
       "      <td>42.339084</td>\n",
       "      <td>-83.138166</td>\n",
       "      <td>-83.137166</td>\n",
       "    </tr>\n",
       "    <tr>\n",
       "      <th>3</th>\n",
       "      <td>0 10TH</td>\n",
       "      <td>70.0</td>\n",
       "      <td>42.369786</td>\n",
       "      <td>42.369786</td>\n",
       "      <td>42.369786</td>\n",
       "      <td>-83.216326</td>\n",
       "      <td>-83.216326</td>\n",
       "      <td>-83.216326</td>\n",
       "      <td>42.369436</td>\n",
       "      <td>42.370136</td>\n",
       "      <td>-83.216826</td>\n",
       "      <td>-83.215826</td>\n",
       "    </tr>\n",
       "    <tr>\n",
       "      <th>4</th>\n",
       "      <td>0 10TH ST</td>\n",
       "      <td>1.0</td>\n",
       "      <td>42.325449</td>\n",
       "      <td>42.325449</td>\n",
       "      <td>42.325449</td>\n",
       "      <td>-83.064139</td>\n",
       "      <td>-83.064139</td>\n",
       "      <td>-83.064139</td>\n",
       "      <td>42.325099</td>\n",
       "      <td>42.325799</td>\n",
       "      <td>-83.064639</td>\n",
       "      <td>-83.063639</td>\n",
       "    </tr>\n",
       "  </tbody>\n",
       "</table>\n",
       "</div>"
      ],
      "text/plain": [
       "                        address_clean     N    lat_avg    lat_min    lat_max  \\\n",
       "0    5949 CASMERE ST DETROIT MICHIGAN   1.0  42.408738  42.408738  42.408738   \n",
       "1   8641 LITTLEFIELD DETROIT MICHIGAN   1.0  42.358054  42.358054  42.358054   \n",
       "2             WAGNER DETROIT MICHIGAN   1.0  42.338734  42.338734  42.338734   \n",
       "3                              0 10TH  70.0  42.369786  42.369786  42.369786   \n",
       "4                           0 10TH ST   1.0  42.325449  42.325449  42.325449   \n",
       "\n",
       "    long_avg   long_min   long_max  lat_min_bound  lat_max_bound  \\\n",
       "0 -83.041618 -83.041618 -83.041618      42.408388      42.409088   \n",
       "1 -83.175329 -83.175329 -83.175329      42.357704      42.358404   \n",
       "2 -83.137666 -83.137666 -83.137666      42.338384      42.339084   \n",
       "3 -83.216326 -83.216326 -83.216326      42.369436      42.370136   \n",
       "4 -83.064139 -83.064139 -83.064139      42.325099      42.325799   \n",
       "\n",
       "   long_min_bound  long_max_bound  \n",
       "0      -83.042118      -83.041118  \n",
       "1      -83.175829      -83.174829  \n",
       "2      -83.138166      -83.137166  \n",
       "3      -83.216826      -83.215826  \n",
       "4      -83.064639      -83.063639  "
      ]
     },
     "execution_count": 165,
     "metadata": {},
     "output_type": "execute_result"
    }
   ],
   "source": [
    "g.head()"
   ]
  },
  {
   "cell_type": "code",
   "execution_count": 183,
   "metadata": {
    "collapsed": false
   },
   "outputs": [],
   "source": [
    "# function that returns list of potential addresses given lat/long\n",
    "def find_address(lat, long):\n",
    "    sub = g[g['lat_min_bound'] < lat]\n",
    "    sub = sub[sub['lat_max_bound'] > lat]\n",
    "    sub = sub[sub['long_min_bound'] < long]\n",
    "    sub = sub[sub['long_max_bound'] > long]\n",
    "    \n",
    "    # calculate distance\n",
    "    pt1 = geopy.Point(lat, long)\n",
    "    sub['dist'] = sub.apply(lambda row: geopy.distance.distance(pt1, geopy.Point(row['lat_avg'], row['long_avg'])).mi, axis=1)\n",
    "    geopy.distance.distance(pt1, pt2).mi\n",
    "    \n",
    "    # sort by closest\n",
    "    sub = sub.sort_values('dist', ascending=True)\n",
    "    address_list = sub['address_clean'].values\n",
    "    \n",
    "    # return\n",
    "    return address_list"
   ]
  },
  {
   "cell_type": "code",
   "execution_count": 184,
   "metadata": {
    "collapsed": false
   },
   "outputs": [
    {
     "data": {
      "text/plain": [
       "array(['2974 VICKSBURG', '2988 VICKSBURG ST DETROIT MICHIGAN',\n",
       "       '2982 VICKSBURG', '2968 VICKSBURG',\n",
       "       '2981 VICKSBURG ST DETROIT MICHIGAN', '2960 VICKSBURG',\n",
       "       '2961 VICKSBURG', '2954 VICKSBURG', '03000 VIRGINA PARK'], dtype=object)"
      ]
     },
     "execution_count": 184,
     "metadata": {},
     "output_type": "execute_result"
    }
   ],
   "source": [
    "# test it\n",
    "# google says this location is 2982 Vicksburg St.\n",
    "lat = 42.364313\n",
    "long = -83.107868\n",
    "find_address(lat, long)"
   ]
  },
  {
   "cell_type": "code",
   "execution_count": 169,
   "metadata": {
    "collapsed": false
   },
   "outputs": [
    {
     "data": {
      "text/plain": [
       "0.00035"
      ]
     },
     "execution_count": 169,
     "metadata": {},
     "output_type": "execute_result"
    }
   ],
   "source": [
    "# remaining to do\n",
    "# 1) remove variants of DETROIT MICHIGAN\n",
    "# 2) normalize street, St, St. etc. or ave, avenue, etc.\n",
    "# 3) do something about when there is no st i.e. 2974 Vicksburg vs. 2974 Vicksburg St."
   ]
  },
  {
   "cell_type": "code",
   "execution_count": null,
   "metadata": {
    "collapsed": true
   },
   "outputs": [],
   "source": []
  }
 ],
 "metadata": {
  "kernelspec": {
   "display_name": "Python 2",
   "language": "python",
   "name": "python2"
  },
  "language_info": {
   "codemirror_mode": {
    "name": "ipython",
    "version": 2
   },
   "file_extension": ".py",
   "mimetype": "text/x-python",
   "name": "python",
   "nbconvert_exporter": "python",
   "pygments_lexer": "ipython2",
   "version": "2.7.13"
  }
 },
 "nbformat": 4,
 "nbformat_minor": 2
}
